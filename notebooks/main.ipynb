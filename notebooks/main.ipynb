{
 "cells": [
  {
   "cell_type": "markdown",
   "metadata": {},
   "source": [
    "# Getting Started SQL for Data Science"
   ]
  },
  {
   "cell_type": "markdown",
   "metadata": {},
   "source": [
    "* practice basic sql command\n",
    "- create table\n",
    "- insert data\n",
    "- select data\n",
    "- update data\n",
    "- delete data"
   ]
  },
  {
   "cell_type": "markdown",
   "metadata": {},
   "source": [
    "# Select statement"
   ]
  },
  {
   "cell_type": "markdown",
   "metadata": {},
   "source": [
    "- retrieve data from table using select statement"
   ]
  },
  {
   "cell_type": "markdown",
   "metadata": {},
   "source": [
    "- select is dml statement (data manipulation language)\n",
    "- always required to use where clause to filter data"
   ]
  },
  {
   "cell_type": "markdown",
   "metadata": {},
   "source": [
    "- Example: select * from table_name where column_name = value\n",
    "- Example: select column_name from table_name where column_name = value\n",
    "- Example: select column_name from table_name where column_name = value and column_name = value"
   ]
  },
  {
   "cell_type": "markdown",
   "metadata": {},
   "source": [
    "## Hands-on Lab : Basics of SQL SELECT Statement\n",
    "\n",
    "In this lab, you will learn one of the most commonly used statements of SQL (Structured Query Language), the SELECT statement. The SELECT statement is used to select data from a database."
   ]
  },
  {
   "cell_type": "markdown",
   "metadata": {},
   "source": [
    "```sql\n",
    "SELECT column1, column2, ...\n",
    "FROM table_name\n",
    "WHERE condition\n",
    ";\n",
    "```"
   ]
  },
  {
   "cell_type": "code",
   "execution_count": 3,
   "metadata": {
    "vscode": {
     "languageId": "sql"
    }
   },
   "outputs": [],
   "source": [
    "# SELECT * FROM FilmLocations;"
   ]
  },
  {
   "cell_type": "markdown",
   "metadata": {},
   "source": [
    "# These are the columns attributes of the table"
   ]
  },
  {
   "cell_type": "markdown",
   "metadata": {},
   "source": [
    "```txt\n",
    "FilmLocations(\n",
    "    Title:              titles of the films, \n",
    "    ReleaseYear:        time of public release of the films, \n",
    "    Locations:          locations of San Francisco where the films were shot, \n",
    "    FunFacts:           funny facts about the filming locations, \n",
    "    ProductionCompany:  companies who produced the films, \n",
    "    Distributor:        companies who distributed the films, \n",
    "    Director:           people who directed the films, \n",
    "    Writer:             people who wrote the films, \n",
    "    Actor1:             person 1 who acted in the films, \n",
    "    Actor2:             person 2 who acted in the films, \n",
    "    Actor3:             person 3 who acted in the films\n",
    ")\n",
    "```"
   ]
  },
  {
   "cell_type": "markdown",
   "metadata": {},
   "source": [
    "- we want to retrieve film names along with filming locations and release years. But we also want to restrict the output resultset so that we can retrieve only the film records released in 2001 and onwards (release years after 2001 including 2001)."
   ]
  },
  {
   "cell_type": "code",
   "execution_count": 4,
   "metadata": {
    "vscode": {
     "languageId": "sql"
    }
   },
   "outputs": [],
   "source": [
    "# SELECT Title, ReleaseYear, Locations FROM FilmLocations WHERE ReleaseYear>=2001;"
   ]
  },
  {
   "cell_type": "markdown",
   "metadata": {},
   "source": [
    "- Retrieve the names, production company names, filming locations, and release years of the films which are not written by James Cameron."
   ]
  },
  {
   "cell_type": "code",
   "execution_count": 5,
   "metadata": {
    "vscode": {
     "languageId": "sql"
    }
   },
   "outputs": [],
   "source": [
    "# SELECT Title, ProductionCompany, Locations, ReleaseYear FROM FilmLocations WHERE Writer<> \"James Cameron\";"
   ]
  },
  {
   "cell_type": "markdown",
   "metadata": {},
   "source": [
    "# COUNT, DISTINCT, LIMIT\n"
   ]
  },
  {
   "cell_type": "markdown",
   "metadata": {},
   "source": [
    "- count: count the number of rows in a table\n",
    "- distinct: count the number of distinct values in a column\n",
    "- limit: limit the number of rows in a result set"
   ]
  },
  {
   "cell_type": "markdown",
   "metadata": {},
   "source": [
    "- count is dql statement (data query language)\n",
    "- count a built-in function in sql language that counts the number of rows in a table."
   ]
  },
  {
   "cell_type": "markdown",
   "metadata": {},
   "source": [
    "```sql\n",
    "SELECT COUNT(*) FROM table_name;\n",
    "```\n",
    "or \n",
    "```sql\n",
    "SELECT COUNT(*) FROM table_name WHERE condition;\n",
    "```\n",
    "or\n",
    "```sql\n",
    "SELECT COUNT(name_table) FROM table_name WHERE condition1 AND condition2;\n",
    "```"
   ]
  },
  {
   "cell_type": "markdown",
   "metadata": {},
   "source": [
    "- DISCTINCT is dql statement (data query language)\n",
    "- distinct is a built-in function in sql language that counts the number of distinct values in a column.\n",
    "\n",
    "```sql\n",
    "SELECT DISTINCT column_name FROM table_name;\n",
    "```\n",
    "or \n",
    "```sql\n",
    "SELECT DISTINCT column_name FROM table_name WHERE condition;\n",
    "```\n",
    "or\n",
    "```sql\n",
    "SELECT DISTINCT column_name FROM table_name WHERE condition1 AND condition2;\n",
    "```"
   ]
  },
  {
   "cell_type": "markdown",
   "metadata": {},
   "source": [
    "- LIMIT is dql statement (data query language)\n",
    "- limit is a built-in function in sql language that limits the number of rows in a result set.\n",
    "\n",
    "```sql\n",
    "SELECT * FROM table_name LIMIT number_of_rows;\n",
    "```\n",
    "or \n",
    "```sql\n",
    "SELECT * FROM table_name WHERE condition LIMIT number_of_rows;\n",
    "```\n",
    "or\n",
    "```sql\n",
    "SELECT * FROM table_name WHERE condition1 AND condition2 LIMIT number_of_rows;\n",
    "```"
   ]
  },
  {
   "cell_type": "markdown",
   "metadata": {},
   "source": [
    "# FULL EXAMPLE\n",
    "    \n",
    "```sql\n",
    "SELECT DISTINCT(TITLE) FROM FilmLocations WHERE ReleaseYear = 2015  LIMIT 3 OFFSET 5;\n",
    "```"
   ]
  },
  {
   "cell_type": "markdown",
   "metadata": {},
   "source": [
    "## Create the table (CREATE TABLE statement)\n",
    "  - Populate table with data:\n",
    "    - INSERT statement\n",
    "       ```txt\n",
    "       a Data Manipulation Language (DML) statement used to read\n",
    "       and modify data\n",
    "       ```\n",
    "\n"
   ]
  },
  {
   "cell_type": "markdown",
   "metadata": {},
   "source": [
    "```sql\n",
    "INSERT INTO [TableName]\n",
    "    <(ColumnName),,..)>\n",
    "VALUES ([Value],...)\n",
    "```\n"
   ]
  },
  {
   "cell_type": "markdown",
   "metadata": {},
   "source": [
    "# UPDATE & DELETE Statements\n",
    "At the end of this lesson, you will be able to:\n",
    "   * Identify the syntax of the UPDATE statement\n",
    "   * Identify the syntax of the DELETE statement\n",
    "   * Explain the importance of the WHERE clause in both the UPDATE\n",
    "   and DELETE statements\n"
   ]
  },
  {
   "cell_type": "markdown",
   "metadata": {},
   "source": [
    "```sql\n",
    "UPDATE [TableName]\n",
    "SET [[ColumnName]=[Value]]\n",
    "<WHERE [Condition]>\n",
    "```"
   ]
  },
  {
   "cell_type": "code",
   "execution_count": 9,
   "metadata": {
    "vscode": {
     "languageId": "sql"
    }
   },
   "outputs": [],
   "source": [
    "# UPDATE USER SET LAST_NAME = \"Smith\"  FIRST_NAME = 'Romero' WHERE USER_ID = \"1\";"
   ]
  },
  {
   "cell_type": "markdown",
   "metadata": {},
   "source": [
    "# Deleting Rows from a table\n",
    "  Remove 1 or more rows from the table:\n",
    "\n",
    "  ## DELETE statement\n",
    "    A DML statement used to read and modify data\n"
   ]
  },
  {
   "cell_type": "markdown",
   "metadata": {},
   "source": [
    "```sql\n",
    "DELETE FROM [TableName]\n",
    "<WHERE [Condition]>\n",
    "```\n"
   ]
  },
  {
   "cell_type": "markdown",
   "metadata": {},
   "source": [
    "# DELETE FROM USER TABLE\n",
    "\n",
    "```sql\n",
    "DELETE FROM USER WHERE USER_ID IN (1,2,3);\n",
    "```"
   ]
  },
  {
   "cell_type": "markdown",
   "metadata": {},
   "source": [
    "# How does the syntax of an INSERT statement look?\n",
    "```SQL\n",
    "INSERT INTO table_name (column1, column2, ... )\n",
    "VALUES (value1, value2, ... )\n",
    ";\n",
    "```\n"
   ]
  },
  {
   "cell_type": "markdown",
   "metadata": {},
   "source": [
    "# How does the syntax of an UPDATE statement look?\n",
    "```SQL\t\n",
    "UPDATE table_name\n",
    "SET column1 = value1, column2 = value2, ...\n",
    "WHERE condition\n",
    ";\n",
    "```"
   ]
  },
  {
   "cell_type": "markdown",
   "metadata": {},
   "source": [
    "# How does the syntax of a DELETE statement look?\n",
    "```SQL\n",
    "DELETE FROM table_name\n",
    "WHERE condition\n",
    ";\n",
    "```\n",
    "\n"
   ]
  },
  {
   "cell_type": "markdown",
   "metadata": {},
   "source": [
    "```txt\n",
    "Instructor (\n",
    "    ins_id:     unique identification number of the instructors,    \n",
    "    lastname:   last name of the instructors,\n",
    "    firstname:  first name of the instructors,\n",
    "    city:       name of the cities where instructors are located,\n",
    "    country:    two-letter country code of the countries where instructors are located\n",
    ")\n",
    "```\t"
   ]
  },
  {
   "cell_type": "markdown",
   "metadata": {},
   "source": [
    "# INSERT\n"
   ]
  },
  {
   "cell_type": "markdown",
   "metadata": {},
   "source": [
    "```SQL\n",
    "INSERT INTO Instructor(INS_ID, LASTNAME, FIRSTNAME, CITY, COUNTRY) VALUES(7,'Cangiano', 'Antonio','Vancouver', 'CA');\n",
    "```"
   ]
  },
  {
   "cell_type": "markdown",
   "metadata": {},
   "source": [
    "```SQL\n",
    "INSERT INTO Instructor(INS_ID, LASTNAME, FIRSTNAME, CITY, COUNTRY) VALUES\n",
    "    (8,'Ryan', 'Steve','Barlby', 'GB'), \n",
    "    (9,'Sannareddy', 'Ramesh','Hyderabad', 'IN');\n",
    "    \n",
    "SELECT  * FROM  instructor;\n",
    "```"
   ]
  },
  {
   "cell_type": "markdown",
   "metadata": {},
   "source": [
    "# UPDATE\n",
    "    \n",
    "```sql\n",
    "UPDATE Instructor\n",
    "SET city= 'Markham', country='BD'\n",
    "WHERE INS_ID=4;\n",
    "\n",
    "SELECT * FROM Instructor;\n",
    "```\n"
   ]
  },
  {
   "cell_type": "markdown",
   "metadata": {},
   "source": [
    "# DELETE\n",
    "\n",
    "```sql\n",
    "DELETE FROM INSTRUCTOR \n",
    "WHERE FIRSTNAME='Hima';\n",
    "\n",
    "\n",
    "SELECT * FROM INSTRUCTOR;\n",
    "```"
   ]
  },
  {
   "cell_type": "markdown",
   "metadata": {},
   "source": [
    "## Congratulations! You have completed this lesson. At this point in the course, you know: \n",
    "\n",
    "* You can use Data Manipulation Language (DML) statements to read and modify data. \n",
    "\n",
    "* The search condition of the WHERE clause uses a predicate to refine the search.​ \n",
    "\n",
    "* COUNT, DISTINCT, and LIMIT​ are expressions that are used with SELECT statements​. \n",
    "\n",
    "* INSERT, UPDATE, and DELETE are DML statements for populating and changing tables. "
   ]
  },
  {
   "cell_type": "markdown",
   "metadata": {},
   "source": []
  }
 ],
 "metadata": {
  "kernelspec": {
   "display_name": "Python 3.8.10 64-bit",
   "language": "python",
   "name": "python3"
  },
  "language_info": {
   "codemirror_mode": {
    "name": "ipython",
    "version": 3
   },
   "file_extension": ".py",
   "mimetype": "text/x-python",
   "name": "python",
   "nbconvert_exporter": "python",
   "pygments_lexer": "ipython3",
   "version": "3.8.10"
  },
  "orig_nbformat": 4,
  "vscode": {
   "interpreter": {
    "hash": "916dbcbb3f70747c44a77c7bcd40155683ae19c65e1c03b4aa3499c5328201f1"
   }
  }
 },
 "nbformat": 4,
 "nbformat_minor": 2
}
